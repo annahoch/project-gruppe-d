{
 "cells": [
  {
   "cell_type": "markdown",
   "metadata": {},
   "source": [
    "# Draft analysis \n",
    "\n",
    "---\n",
    "\n",
    "Group name: Gruppe D\n",
    "\n",
    "---\n"
   ]
  },
  {
   "cell_type": "markdown",
   "metadata": {},
   "source": [
    "## Introduction\n",
    "\n",
    "*This section includes an introduction to the project motivation, data, and research question. Include a data dictionary* \n",
    "\n",
    "In dieser Untersuchung setzt sich die Projektgruppe D mit dem Thema Mobilität außeinander. Dieses Thema ist im Hinblick auf aktuelle gesellschaftliche und politische Problemstellungen bezüglich Klimaerwärmung und Klimazielen sehr relevant. Zürich ist neben Wien eine der am besten ausgebauten Städte bezogen auf den öffentlichen Personenverkehr. Es liegt eine Umfangreiche Datensammlung der Verkehrsbezüge Zürich vor, mit der das bestehende Verkersangebot näher betrachtet wird.\n",
    "Es stellt sich die Frage, ob eine Korrelation zwischen der Auslastung des öffentlichen Personenverkehrs und den Verspätungen besteht. Daraus sollen Handlungsempfehlunge zu bestimmten Auslastungszeiten abgeleitet werden. \n",
    "\n",
    "Zur Analyse der Daten stehen wöchentliche csv-Dateien zur Verfügung, welche eine Vielzahl an Daten beinhalten. Jeder Eintrag stellt einen geplanten Halt eines Fahrzeugs der Verkehrsbetriebe Zürich dar und gibt eine präzise Auskunft über Datum, Linie, Fahrzeug, Haltestelle und vielem mehr. Somit ermöglicht der Datensatz einen Vergleich zwischen den geplanten und tatsächlich erfolgten Fahrzeiten der Fahrzeuge der Verkehrsbetriebe Zürich. Da vielen Daten aus der Tabelle eine interne ID und somit einen Fremdschlüssel zu anderen Tabellen darstellen, sind weitere Tabellen vorhanden, um diese Daten mit konkreten, verständlichen Bezeichnungen verknüpfen zu können.\n",
    "\n",
    "Der Datenlieferant ist Verkehrsbetriebe Zürich, Departement der Industriellen Betriebe. Die Daten wurden erstmals 2015 erfasst und werden seither wöchentlich sonntags aktualisiert. Sämtliche Zeiten werden dabei auf die Sekunde gemessen. Über die genaue Bereitstellung der Daten gibt es keine Informationen. Da die Daten wöchentlich aktualisiert werden, ist davon auszugehen, dass die Daten durch einen automatischen Export aus einer oder mehreren weiteren Datenbanktabellen zusammengetragen und miteinander verknüpft werden.\n",
    "\n",
    "Die zur Verfügung stehenden Datensätze sind sehr groß: Eine grobe Kalkulation ergab eine Anzahl von ca. 147 Mio. Datensätzen für einen Zeitraum von zwei Jahren. Aus diesem Grund erscheint es als sinnvoll, die Daten für die Auswertung herunterzubrechen. Dementsprechend werden jeweils die ersten Februarwochen der Jahre 2019 und 2021 miteinander verglichen. Das primäre Ziel des Vergleichs zwischen der Vor-Corona und der Während-Corona-Zeit findet seinen Ursprung in den fehlenden eindeutigen Indikatoren im Datensatz, welche Auskunft über die tatsächliche Auslastung der Fahrzeuge geben. Im Rahmen einer Analyse des Verkehrsverbundes Nürnberg konnte allerdings festgestellt werden, dass die Nutzung öffentlicher Verkehrsmittel gegenüber der Vor-Corona-Phase stark gesunken ist - teilweise um 45%. Unter der Annahme, dass sich dieses Phänomen ebenfalls auf die Stadt Zürich abbilden lässt, ist eine Grundlage für die Analyse geschaffen. Eine weitere Konzentration auf ein oder zwei spezifische Linien (z.B. eine Bus- und eine Tramlinie) ist nicht ausgeschlossen."
   ]
  },
  {
   "cell_type": "markdown",
   "metadata": {},
   "source": [
    "## Setup"
   ]
  },
  {
   "cell_type": "code",
   "execution_count": 3,
   "metadata": {},
   "outputs": [],
   "source": [
    "import pandas as pd\n",
    "import altair as alt"
   ]
  },
  {
   "cell_type": "markdown",
   "metadata": {},
   "source": [
    "## Data"
   ]
  },
  {
   "cell_type": "markdown",
   "metadata": {},
   "source": [
    "### Import data"
   ]
  },
  {
   "cell_type": "code",
   "execution_count": 4,
   "metadata": {},
   "outputs": [],
   "source": [
    "# import csvs\n",
    "\n",
    "# 1. Februarwoche 2019\n",
    "df_19 = pd.read_csv(\"https://data.stadt-zuerich.ch/dataset/vbz_fahrzeiten_ogd_2019/download/Fahrzeiten_SOLL_IST_20190203_20190209.csv\")\n",
    "\n",
    "# 1. Februarwoche 2021\n",
    "df_21 = pd.read_csv(\"https://data.stadt-zuerich.ch/dataset/vbz_fahrzeiten_ogd_2021/download/Fahrzeiten_SOLL_IST_20210131_20210206.csv\")\n",
    "\n",
    "# Haltestellen\n",
    "df_haltestellen = pd.read_csv('https://data.stadt-zuerich.ch/dataset/vbz_fahrzeiten_ogd_2019/download/Haltestelle.csv')\n",
    "\n",
    "# Haltepunkte\n",
    "df_haltepunkte = pd.read_csv('https://data.stadt-zuerich.ch/dataset/vbz_fahrzeiten_ogd_2019/download/Haltepunkt.csv')\n",
    "\n",
    "# Linien\n",
    "df_linie = pd.read_csv('https://data.stadt-zuerich.ch/dataset/vbz_fahrgastzahlen_ogd/download/LINIE.csv', delimiter=';')\n"
   ]
  },
  {
   "cell_type": "markdown",
   "metadata": {},
   "source": [
    "### Data structure"
   ]
  },
  {
   "cell_type": "code",
   "execution_count": 44,
   "metadata": {},
   "outputs": [
    {
     "data": {
      "text/html": [
       "<div>\n",
       "<style scoped>\n",
       "    .dataframe tbody tr th:only-of-type {\n",
       "        vertical-align: middle;\n",
       "    }\n",
       "\n",
       "    .dataframe tbody tr th {\n",
       "        vertical-align: top;\n",
       "    }\n",
       "\n",
       "    .dataframe thead th {\n",
       "        text-align: right;\n",
       "    }\n",
       "</style>\n",
       "<table border=\"1\" class=\"dataframe\">\n",
       "  <thead>\n",
       "    <tr style=\"text-align: right;\">\n",
       "      <th></th>\n",
       "      <th>linie</th>\n",
       "      <th>richtung</th>\n",
       "      <th>betriebsdatum</th>\n",
       "      <th>fahrzeug</th>\n",
       "      <th>soll_an_von</th>\n",
       "      <th>ist_an_von</th>\n",
       "      <th>soll_ab_von</th>\n",
       "      <th>ist_ab_von</th>\n",
       "      <th>halt_id_von</th>\n",
       "      <th>halt_id_nach</th>\n",
       "      <th>halt_punkt_id_von</th>\n",
       "      <th>halt_punkt_id_nach</th>\n",
       "    </tr>\n",
       "  </thead>\n",
       "  <tbody>\n",
       "    <tr>\n",
       "      <th>0</th>\n",
       "      <td>2</td>\n",
       "      <td>1</td>\n",
       "      <td>03.02.19</td>\n",
       "      <td>2072</td>\n",
       "      <td>17580</td>\n",
       "      <td>17604</td>\n",
       "      <td>17580</td>\n",
       "      <td>17604</td>\n",
       "      <td>2251</td>\n",
       "      <td>1906</td>\n",
       "      <td>47032</td>\n",
       "      <td>10563</td>\n",
       "    </tr>\n",
       "    <tr>\n",
       "      <th>1</th>\n",
       "      <td>2</td>\n",
       "      <td>1</td>\n",
       "      <td>03.02.19</td>\n",
       "      <td>3033</td>\n",
       "      <td>17802</td>\n",
       "      <td>17820</td>\n",
       "      <td>17802</td>\n",
       "      <td>17820</td>\n",
       "      <td>1306</td>\n",
       "      <td>1502</td>\n",
       "      <td>44135</td>\n",
       "      <td>44530</td>\n",
       "    </tr>\n",
       "    <tr>\n",
       "      <th>2</th>\n",
       "      <td>2</td>\n",
       "      <td>1</td>\n",
       "      <td>03.02.19</td>\n",
       "      <td>3033</td>\n",
       "      <td>18222</td>\n",
       "      <td>18186</td>\n",
       "      <td>18234</td>\n",
       "      <td>18199</td>\n",
       "      <td>2228</td>\n",
       "      <td>2590</td>\n",
       "      <td>49163</td>\n",
       "      <td>46896</td>\n",
       "    </tr>\n",
       "    <tr>\n",
       "      <th>3</th>\n",
       "      <td>2</td>\n",
       "      <td>1</td>\n",
       "      <td>03.02.19</td>\n",
       "      <td>3033</td>\n",
       "      <td>18156</td>\n",
       "      <td>18124</td>\n",
       "      <td>18174</td>\n",
       "      <td>18138</td>\n",
       "      <td>1528</td>\n",
       "      <td>2228</td>\n",
       "      <td>44152</td>\n",
       "      <td>49163</td>\n",
       "    </tr>\n",
       "    <tr>\n",
       "      <th>4</th>\n",
       "      <td>2</td>\n",
       "      <td>1</td>\n",
       "      <td>03.02.19</td>\n",
       "      <td>3033</td>\n",
       "      <td>18054</td>\n",
       "      <td>18017</td>\n",
       "      <td>18066</td>\n",
       "      <td>18038</td>\n",
       "      <td>2657</td>\n",
       "      <td>1528</td>\n",
       "      <td>10574</td>\n",
       "      <td>44152</td>\n",
       "    </tr>\n",
       "  </tbody>\n",
       "</table>\n",
       "</div>"
      ],
      "text/plain": [
       "   linie  richtung betriebsdatum  fahrzeug  soll_an_von  ist_an_von  \\\n",
       "0      2         1      03.02.19      2072        17580       17604   \n",
       "1      2         1      03.02.19      3033        17802       17820   \n",
       "2      2         1      03.02.19      3033        18222       18186   \n",
       "3      2         1      03.02.19      3033        18156       18124   \n",
       "4      2         1      03.02.19      3033        18054       18017   \n",
       "\n",
       "   soll_ab_von  ist_ab_von  halt_id_von  halt_id_nach  halt_punkt_id_von  \\\n",
       "0        17580       17604         2251          1906              47032   \n",
       "1        17802       17820         1306          1502              44135   \n",
       "2        18234       18199         2228          2590              49163   \n",
       "3        18174       18138         1528          2228              44152   \n",
       "4        18066       18038         2657          1528              10574   \n",
       "\n",
       "   halt_punkt_id_nach  \n",
       "0               10563  \n",
       "1               44530  \n",
       "2               46896  \n",
       "3               49163  \n",
       "4               44152  "
      ]
     },
     "execution_count": 44,
     "metadata": {},
     "output_type": "execute_result"
    }
   ],
   "source": [
    "df_19_new = df_19.drop(['kurs', 'seq_von', 'datum_von', 'halt_diva_von','halt_kurz_von1', 'halt_punkt_diva_von','seq_nach', 'halt_diva_nach', 'halt_punkt_diva_nach', 'halt_kurz_nach1', 'datum_nach', 'soll_an_nach','ist_an_nach1', 'soll_ab_nach', 'ist_ab_nach', 'fahrt_id', 'fahrweg_id', 'fw_no', 'fw_typ', 'fw_kurz', 'fw_lang', 'umlauf_von'], axis=1)\n",
    "\n",
    "df_19_new.head()"
   ]
  },
  {
   "cell_type": "markdown",
   "metadata": {},
   "source": [
    "### Data corrections"
   ]
  },
  {
   "cell_type": "code",
   "execution_count": 45,
   "metadata": {},
   "outputs": [
    {
     "data": {
      "text/html": [
       "<div>\n",
       "<style scoped>\n",
       "    .dataframe tbody tr th:only-of-type {\n",
       "        vertical-align: middle;\n",
       "    }\n",
       "\n",
       "    .dataframe tbody tr th {\n",
       "        vertical-align: top;\n",
       "    }\n",
       "\n",
       "    .dataframe thead th {\n",
       "        text-align: right;\n",
       "    }\n",
       "</style>\n",
       "<table border=\"1\" class=\"dataframe\">\n",
       "  <thead>\n",
       "    <tr style=\"text-align: right;\">\n",
       "      <th></th>\n",
       "      <th>halt_id</th>\n",
       "      <th>halt_lang</th>\n",
       "    </tr>\n",
       "  </thead>\n",
       "  <tbody>\n",
       "    <tr>\n",
       "      <th>0</th>\n",
       "      <td>143</td>\n",
       "      <td>Birmensdorf ZH, Sternen/WSL</td>\n",
       "    </tr>\n",
       "    <tr>\n",
       "      <th>1</th>\n",
       "      <td>309</td>\n",
       "      <td>Waldegg, Birmensdorferstrasse</td>\n",
       "    </tr>\n",
       "    <tr>\n",
       "      <th>2</th>\n",
       "      <td>373</td>\n",
       "      <td>Zürich Flughafen, Fracht</td>\n",
       "    </tr>\n",
       "    <tr>\n",
       "      <th>3</th>\n",
       "      <td>539</td>\n",
       "      <td>Thalwil, Bahnhof</td>\n",
       "    </tr>\n",
       "    <tr>\n",
       "      <th>4</th>\n",
       "      <td>588</td>\n",
       "      <td>Zürich Flughafen, Bahnhof</td>\n",
       "    </tr>\n",
       "  </tbody>\n",
       "</table>\n",
       "</div>"
      ],
      "text/plain": [
       "   halt_id                      halt_lang\n",
       "0      143    Birmensdorf ZH, Sternen/WSL\n",
       "1      309  Waldegg, Birmensdorferstrasse\n",
       "2      373       Zürich Flughafen, Fracht\n",
       "3      539               Thalwil, Bahnhof\n",
       "4      588      Zürich Flughafen, Bahnhof"
      ]
     },
     "execution_count": 45,
     "metadata": {},
     "output_type": "execute_result"
    }
   ],
   "source": [
    "df_haltestellen_new = df_haltestellen.drop(['halt_diva', 'halt_kurz', 'halt_ist_aktiv'], axis=1)\n",
    "df_haltestellen_new.head()"
   ]
  },
  {
   "cell_type": "code",
   "execution_count": 46,
   "metadata": {},
   "outputs": [
    {
     "data": {
      "text/html": [
       "<div>\n",
       "<style scoped>\n",
       "    .dataframe tbody tr th:only-of-type {\n",
       "        vertical-align: middle;\n",
       "    }\n",
       "\n",
       "    .dataframe tbody tr th {\n",
       "        vertical-align: top;\n",
       "    }\n",
       "\n",
       "    .dataframe thead th {\n",
       "        text-align: right;\n",
       "    }\n",
       "</style>\n",
       "<table border=\"1\" class=\"dataframe\">\n",
       "  <thead>\n",
       "    <tr style=\"text-align: right;\">\n",
       "      <th></th>\n",
       "      <th>linie</th>\n",
       "      <th>richtung</th>\n",
       "      <th>betriebsdatum</th>\n",
       "      <th>fahrzeug</th>\n",
       "      <th>soll_an_von</th>\n",
       "      <th>ist_an_von</th>\n",
       "      <th>soll_ab_von</th>\n",
       "      <th>ist_ab_von</th>\n",
       "      <th>halt_id_von</th>\n",
       "      <th>halt_id_nach</th>\n",
       "      <th>halt_punkt_id_von</th>\n",
       "      <th>halt_punkt_id_nach</th>\n",
       "      <th>halt_lang_von</th>\n",
       "      <th>halt_lang_nach</th>\n",
       "    </tr>\n",
       "  </thead>\n",
       "  <tbody>\n",
       "    <tr>\n",
       "      <th>0</th>\n",
       "      <td>2</td>\n",
       "      <td>1</td>\n",
       "      <td>03.02.19</td>\n",
       "      <td>2072</td>\n",
       "      <td>17580</td>\n",
       "      <td>17604</td>\n",
       "      <td>17580</td>\n",
       "      <td>17604</td>\n",
       "      <td>2251</td>\n",
       "      <td>1906</td>\n",
       "      <td>47032</td>\n",
       "      <td>10563</td>\n",
       "      <td>Zürich, Depot 4 Elisabethenstr</td>\n",
       "      <td>Zürich,Kalkbreite/Bhf.Wiedikon</td>\n",
       "    </tr>\n",
       "    <tr>\n",
       "      <th>1</th>\n",
       "      <td>2</td>\n",
       "      <td>1</td>\n",
       "      <td>03.02.19</td>\n",
       "      <td>3033</td>\n",
       "      <td>17802</td>\n",
       "      <td>17820</td>\n",
       "      <td>17802</td>\n",
       "      <td>17820</td>\n",
       "      <td>1306</td>\n",
       "      <td>1502</td>\n",
       "      <td>44135</td>\n",
       "      <td>44530</td>\n",
       "      <td>Zürich, Bezirksgebäude</td>\n",
       "      <td>Zürich, Stauffacher</td>\n",
       "    </tr>\n",
       "    <tr>\n",
       "      <th>2</th>\n",
       "      <td>2</td>\n",
       "      <td>1</td>\n",
       "      <td>03.02.19</td>\n",
       "      <td>3033</td>\n",
       "      <td>18222</td>\n",
       "      <td>18186</td>\n",
       "      <td>18234</td>\n",
       "      <td>18199</td>\n",
       "      <td>2228</td>\n",
       "      <td>2590</td>\n",
       "      <td>49163</td>\n",
       "      <td>46896</td>\n",
       "      <td>Zürich, Kantonalbank</td>\n",
       "      <td>Zürich, Bürkliplatz</td>\n",
       "    </tr>\n",
       "    <tr>\n",
       "      <th>3</th>\n",
       "      <td>2</td>\n",
       "      <td>1</td>\n",
       "      <td>03.02.19</td>\n",
       "      <td>3033</td>\n",
       "      <td>18156</td>\n",
       "      <td>18124</td>\n",
       "      <td>18174</td>\n",
       "      <td>18138</td>\n",
       "      <td>1528</td>\n",
       "      <td>2228</td>\n",
       "      <td>44152</td>\n",
       "      <td>49163</td>\n",
       "      <td>Zürich, Paradeplatz</td>\n",
       "      <td>Zürich, Kantonalbank</td>\n",
       "    </tr>\n",
       "    <tr>\n",
       "      <th>4</th>\n",
       "      <td>2</td>\n",
       "      <td>1</td>\n",
       "      <td>03.02.19</td>\n",
       "      <td>3033</td>\n",
       "      <td>18054</td>\n",
       "      <td>18017</td>\n",
       "      <td>18066</td>\n",
       "      <td>18038</td>\n",
       "      <td>2657</td>\n",
       "      <td>1528</td>\n",
       "      <td>10574</td>\n",
       "      <td>44152</td>\n",
       "      <td>Zürich, Sihlstrasse</td>\n",
       "      <td>Zürich, Paradeplatz</td>\n",
       "    </tr>\n",
       "  </tbody>\n",
       "</table>\n",
       "</div>"
      ],
      "text/plain": [
       "   linie  richtung betriebsdatum  fahrzeug  soll_an_von  ist_an_von  \\\n",
       "0      2         1      03.02.19      2072        17580       17604   \n",
       "1      2         1      03.02.19      3033        17802       17820   \n",
       "2      2         1      03.02.19      3033        18222       18186   \n",
       "3      2         1      03.02.19      3033        18156       18124   \n",
       "4      2         1      03.02.19      3033        18054       18017   \n",
       "\n",
       "   soll_ab_von  ist_ab_von  halt_id_von  halt_id_nach  halt_punkt_id_von  \\\n",
       "0        17580       17604         2251          1906              47032   \n",
       "1        17802       17820         1306          1502              44135   \n",
       "2        18234       18199         2228          2590              49163   \n",
       "3        18174       18138         1528          2228              44152   \n",
       "4        18066       18038         2657          1528              10574   \n",
       "\n",
       "   halt_punkt_id_nach                   halt_lang_von  \\\n",
       "0               10563  Zürich, Depot 4 Elisabethenstr   \n",
       "1               44530          Zürich, Bezirksgebäude   \n",
       "2               46896            Zürich, Kantonalbank   \n",
       "3               49163             Zürich, Paradeplatz   \n",
       "4               44152             Zürich, Sihlstrasse   \n",
       "\n",
       "                   halt_lang_nach  \n",
       "0  Zürich,Kalkbreite/Bhf.Wiedikon  \n",
       "1             Zürich, Stauffacher  \n",
       "2             Zürich, Bürkliplatz  \n",
       "3            Zürich, Kantonalbank  \n",
       "4             Zürich, Paradeplatz  "
      ]
     },
     "execution_count": 46,
     "metadata": {},
     "output_type": "execute_result"
    }
   ],
   "source": [
    "df_all = df_19_new.join(df_haltestellen_new.set_index('halt_id'), on='halt_id_von')\n",
    "df_all = df_all.rename(columns={\"halt_lang\": \"halt_lang_von\"})\n",
    "\n",
    "df_all = df_all.join(df_haltestellen_new.set_index('halt_id'), on='halt_id_nach')\n",
    "df_all = df_all.rename(columns={\"halt_lang\": \"halt_lang_nach\"})\n",
    "\n",
    "df_all.head()"
   ]
  },
  {
   "cell_type": "markdown",
   "metadata": {},
   "source": [
    "## Analysis"
   ]
  },
  {
   "cell_type": "markdown",
   "metadata": {},
   "source": [
    "### Descriptive statistics"
   ]
  },
  {
   "cell_type": "code",
   "execution_count": null,
   "metadata": {},
   "outputs": [],
   "source": []
  },
  {
   "cell_type": "markdown",
   "metadata": {},
   "source": [
    "### Exploratory data analysis"
   ]
  },
  {
   "cell_type": "code",
   "execution_count": null,
   "metadata": {},
   "outputs": [],
   "source": []
  },
  {
   "cell_type": "markdown",
   "metadata": {},
   "source": [
    "## Visualizations"
   ]
  },
  {
   "cell_type": "markdown",
   "metadata": {},
   "source": [
    "### Visualization ideas"
   ]
  },
  {
   "cell_type": "code",
   "execution_count": null,
   "metadata": {},
   "outputs": [],
   "source": []
  },
  {
   "cell_type": "markdown",
   "metadata": {},
   "source": [
    "### Save Visualizations\n"
   ]
  },
  {
   "cell_type": "code",
   "execution_count": null,
   "metadata": {},
   "outputs": [],
   "source": []
  },
  {
   "cell_type": "markdown",
   "metadata": {},
   "source": [
    "\n",
    "Save your draft visualizations in the folder `reports/visualizations/`. Use a meaningful name (always include the word `draft` and a `timestamp`in your filename)."
   ]
  },
  {
   "cell_type": "code",
   "execution_count": null,
   "metadata": {},
   "outputs": [],
   "source": []
  },
  {
   "cell_type": "markdown",
   "metadata": {},
   "source": [
    "## Conclusion and recommended action"
   ]
  },
  {
   "cell_type": "markdown",
   "metadata": {},
   "source": []
  }
 ],
 "metadata": {
  "kernelspec": {
   "display_name": "Python 3.10.5 64-bit",
   "language": "python",
   "name": "python3"
  },
  "language_info": {
   "codemirror_mode": {
    "name": "ipython",
    "version": 3
   },
   "file_extension": ".py",
   "mimetype": "text/x-python",
   "name": "python",
   "nbconvert_exporter": "python",
   "pygments_lexer": "ipython3",
   "version": "3.10.5"
  },
  "orig_nbformat": 4,
  "vscode": {
   "interpreter": {
    "hash": "aee8b7b246df8f9039afb4144a1f6fd8d2ca17a180786b69acc140d282b71a49"
   }
  }
 },
 "nbformat": 4,
 "nbformat_minor": 2
}
