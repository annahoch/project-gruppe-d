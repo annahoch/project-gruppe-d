{
 "cells": [
  {
   "cell_type": "markdown",
   "metadata": {},
   "source": [
    "# Notfall Analyse 2"
   ]
  },
  {
   "cell_type": "markdown",
   "metadata": {},
   "source": [
    "## Aktuelles Problem"
   ]
  },
  {
   "cell_type": "markdown",
   "metadata": {},
   "source": [
    "Nach Fertigstellen des Project Proposals kamen wir zu folgender Feststellung: Unsere bisherigen Daten erlauben uns keine aussagekräftigen Analysen eines Zusammenhangs zw. Verspätung und Auslastung. Grund hierfür ist, dass bisher keine Werte für die Auslastung im Datensatz vorhanden waren. Es hätte eine pauschale Annahme stattgefunden, dass die Auslastung vor Corona höher war als während Corona (Analyse Verkehrsbetriebe Nürnberg), doch diese Annahme reicht für eine Analyse (Wie können die öffentlichen Verkehrsmittel in Zürich während der Hauptverkehrszeit optimiert werden) nicht aus. Es fehlen tatsächliche Werte über die Auslastung der Fahrzeuge!\n",
    "\n",
    "Im Internet finden sich Daten, welche Auskunft über die Auslastung der Fahrzeuge im VBZ bieten, diese Daten lassen sich allerdings nicht mit den aktuellen Daten über die Verspätungen verknüpfen."
   ]
  },
  {
   "cell_type": "markdown",
   "metadata": {},
   "source": [
    "## Strategie"
   ]
  },
  {
   "cell_type": "markdown",
   "metadata": {},
   "source": [
    "### Konzentration, auf das, was die Daten tatsächlich bieten"
   ]
  },
  {
   "cell_type": "markdown",
   "metadata": {},
   "source": [
    "Auch ohne die Berücksichtigung der Auslastung der Fahrzeuge, bieten die Daten genug Analyseansätze, welche sich rein auf die zeitliche Verspätung konzentrieren. So können die Daten z.B. Auskunft über folgende Fragen geben:\n",
    "- In welchem zeitlichen Bereich liegen die meisten Verspätungen? (Wie viele Sekunden/Minuten)\n",
    "- Gibt es Uhrzeiten oder Tage, zu denen die Verspätungen höher sind?\n",
    "- Gibt es Stationen, in denen die Verspätungen tendenziell höher sind? (Anzahl und/oder tatsächliche Dauer)\n",
    "- Können Verspätungen auf einzelne Linien zurückgeführt werden?"
   ]
  },
  {
   "cell_type": "markdown",
   "metadata": {},
   "source": [
    "## Ansatz"
   ]
  },
  {
   "attachments": {},
   "cell_type": "markdown",
   "metadata": {},
   "source": [
    "- Zeitliche Aggregation: Datensätze werden vorerst je Stunde aggregiert. Somit kann eine komplette Woche (Montag bis Sonntag) von 0 bis 24 Uhr betrachtet werden. Um Saisonalität auszuschließen, aber dennoch eine Analyse über mehrere Wochen zu ermöglichen, wird nur ein Monat betrachetet (4 Wochen). Es werden nun möglichst aktuelle Daten betrachtet. Da in Zürich im Oktober Schulferien sind und die Daten zum November noch nicht vollständig sind, werden die Daten aus September 2022 analysiert.\n",
    "- Die Verspätungen werden aktuell durch die Differenz zwischen der IST-Ankunftszeit und der SOLL-Ankunftszeit berechnet. Dies bedeutet, dass durch ein Verfrühtes Eintreffen eines Fahrzeugs Minuswerte vorkommen können. Da eine Verfrühung eine Verspätung nicht aufwiegen kann, müssen beide Fälle getrennt voneinander betrachtet werden. Es macht Sinn, diese Unterteilung in weiteren Spalten festzuhalten (nominal mit true oder false). Darüber hinaus kann man eine Verspätung/Verfrühung von ein paar Sekunden nicht als solche einordnen. Es muss ein passender Grenzwert gefunden werden, ab wann eine Ankunft als Verfrühung oder Verspätung gilt. Hierfür hat die VBZ in ihren Analysen selbst folgende Einteilung getroffen, welche für unsere Analyse übernommen wird: Verspätung gilt ab 120 Sekunden zu spät, Verfrühung ab 60 Sekunden zu früh, alles andere gilt als pünktlich.\n",
    "\n",
    "Hieraus erscheint folgender Aufbau für das Ziel-Dataframe als sinnvoll:\n",
    "\n",
    "- Fahrzeugtyp (nominal): Bus oder Tram\n",
    "- Linie (nominal): offizielle Liniennummer\n",
    "- Richtung (nominal): 1 oder 2\n",
    "- Haltestelle (nominal): offizielle Haltestellenbezeichnung\n",
    "- Tag (nominal): Tag des Ereignisses nach TT.MM.YYYY\n",
    "- Wochentag (nominal): Montag - Sonntag\n",
    "- Stunde (nominal): 0 bis 24 Uhr\n",
    "- Ist-Ankunftszeit (discrete): Ist-Ankunftszeit in Sekunden nach Mitternacht\n",
    "- Soll-Ankunftszeit (discrete): Soll-Ankunftszeit in Sekunden nach Mitternacht\n",
    "- Zeit-Differenz (discrete): Errechnt durch Ist-Ankunftszeit minus Soll-Ankunftszeit (in Sekunden)\n",
    "- PÜnktlichkeit (nominal): \"zu früh\", \"pünktlich\" oder \"zu spät\""
   ]
  }
 ],
 "metadata": {
  "kernelspec": {
   "display_name": "Python 3.8.2 64-bit",
   "language": "python",
   "name": "python3"
  },
  "language_info": {
   "codemirror_mode": {
    "name": "ipython",
    "version": 3
   },
   "file_extension": ".py",
   "mimetype": "text/x-python",
   "name": "python",
   "nbconvert_exporter": "python",
   "pygments_lexer": "ipython3",
   "version": "3.8.2"
  },
  "orig_nbformat": 4,
  "vscode": {
   "interpreter": {
    "hash": "31f2aee4e71d21fbe5cf8b01ff0e069b9275f58929596ceb00d14d90e3e16cd6"
   }
  }
 },
 "nbformat": 4,
 "nbformat_minor": 2
}
